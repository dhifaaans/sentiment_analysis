{
 "cells": [
  {
   "cell_type": "code",
   "execution_count": 1,
   "metadata": {},
   "outputs": [],
   "source": [
    "# Created by Nadhifa Sofia\n",
    "# Data Science Mid Test\n",
    "\n",
    "import pandas as pd\n",
    "import re\n",
    "from sklearn.feature_extraction.text import TfidfVectorizer\n",
    "from sklearn.naive_bayes import GaussianNB\n",
    "from sklearn.svm import SVC\n",
    "from sklearn.model_selection import train_test_split\n",
    "from sklearn.metrics import accuracy_score\n",
    "import numpy as np\n",
    "from sklearn.metrics import confusion_matrix\n",
    "import matplotlib.pyplot as plt"
   ]
  },
  {
   "cell_type": "markdown",
   "metadata": {},
   "source": [
    "# Read Twitter Dataset "
   ]
  },
  {
   "cell_type": "code",
   "execution_count": 2,
   "metadata": {
    "scrolled": true
   },
   "outputs": [
    {
     "data": {
      "text/html": [
       "<div>\n",
       "<style scoped>\n",
       "    .dataframe tbody tr th:only-of-type {\n",
       "        vertical-align: middle;\n",
       "    }\n",
       "\n",
       "    .dataframe tbody tr th {\n",
       "        vertical-align: top;\n",
       "    }\n",
       "\n",
       "    .dataframe thead th {\n",
       "        text-align: right;\n",
       "    }\n",
       "</style>\n",
       "<table border=\"1\" class=\"dataframe\">\n",
       "  <thead>\n",
       "    <tr style=\"text-align: right;\">\n",
       "      <th></th>\n",
       "      <th>tweet</th>\n",
       "      <th>sentimen</th>\n",
       "    </tr>\n",
       "  </thead>\n",
       "  <tbody>\n",
       "    <tr>\n",
       "      <th>0</th>\n",
       "      <td>Saya juga mau vouchee @gojekindonesia  https:/...</td>\n",
       "      <td>1</td>\n",
       "    </tr>\n",
       "    <tr>\n",
       "      <th>1</th>\n",
       "      <td>download gojek duluuu uwuwu</td>\n",
       "      <td>1</td>\n",
       "    </tr>\n",
       "    <tr>\n",
       "      <th>2</th>\n",
       "      <td>Aminnn...#orderan goride mhn di lancar kan.all...</td>\n",
       "      <td>1</td>\n",
       "    </tr>\n",
       "    <tr>\n",
       "      <th>3</th>\n",
       "      <td>Tq @gojekindonesia @golifeindonesia 🖤. Harusny...</td>\n",
       "      <td>1</td>\n",
       "    </tr>\n",
       "    <tr>\n",
       "      <th>4</th>\n",
       "      <td>Semoga Twitter panjang umur. Berkomunikasi den...</td>\n",
       "      <td>1</td>\n",
       "    </tr>\n",
       "  </tbody>\n",
       "</table>\n",
       "</div>"
      ],
      "text/plain": [
       "                                               tweet  sentimen\n",
       "0  Saya juga mau vouchee @gojekindonesia  https:/...         1\n",
       "1                        download gojek duluuu uwuwu         1\n",
       "2  Aminnn...#orderan goride mhn di lancar kan.all...         1\n",
       "3  Tq @gojekindonesia @golifeindonesia 🖤. Harusny...         1\n",
       "4  Semoga Twitter panjang umur. Berkomunikasi den...         1"
      ]
     },
     "execution_count": 2,
     "metadata": {},
     "output_type": "execute_result"
    }
   ],
   "source": [
    "# Because this' my Mid Test, My lecturer sent us the dataset from twitter and I used it\n",
    "tweets = pd.read_csv(\"data/gojek_twitter_dataset.csv\", delimiter=',')\n",
    "tweets.head()"
   ]
  },
  {
   "cell_type": "code",
   "execution_count": 3,
   "metadata": {},
   "outputs": [
    {
     "data": {
      "text/plain": [
       "(4000, 2)"
      ]
     },
     "execution_count": 3,
     "metadata": {},
     "output_type": "execute_result"
    }
   ],
   "source": [
    "tweets.shape"
   ]
  },
  {
   "cell_type": "markdown",
   "metadata": {},
   "source": [
    "# Read Stopword List"
   ]
  },
  {
   "cell_type": "code",
   "execution_count": 4,
   "metadata": {},
   "outputs": [
    {
     "data": {
      "text/plain": [
       "['AT_USER',\n",
       " 'URL',\n",
       " 'ada',\n",
       " 'adalah',\n",
       " 'adanya',\n",
       " 'adapun',\n",
       " 'agak',\n",
       " 'agaknya',\n",
       " 'agar',\n",
       " 'akan']"
      ]
     },
     "execution_count": 4,
     "metadata": {},
     "output_type": "execute_result"
    }
   ],
   "source": [
    "def get_stop_word_list(stop_word_list_filename):\n",
    "    stop_words = ['AT_USER', 'URL']\n",
    "    fp = open(stop_word_list_filename, 'r')\n",
    "    for line in fp.readlines():\n",
    "        word = line.strip() \n",
    "        if word == \"\":\n",
    "            continue\n",
    "        stop_words.append(word)\n",
    "    return stop_words\n",
    "\n",
    "# Examples are using Bahasa Indonesia\n",
    "stopwords = get_stop_word_list('data/feature_list/stopwordsID.txt')\n",
    "stopwords[:10]"
   ]
  },
  {
   "cell_type": "markdown",
   "metadata": {},
   "source": [
    "# Tweet Preprocessing"
   ]
  },
  {
   "cell_type": "code",
   "execution_count": 5,
   "metadata": {
    "scrolled": true
   },
   "outputs": [
    {
     "data": {
      "text/html": [
       "<div>\n",
       "<style scoped>\n",
       "    .dataframe tbody tr th:only-of-type {\n",
       "        vertical-align: middle;\n",
       "    }\n",
       "\n",
       "    .dataframe tbody tr th {\n",
       "        vertical-align: top;\n",
       "    }\n",
       "\n",
       "    .dataframe thead th {\n",
       "        text-align: right;\n",
       "    }\n",
       "</style>\n",
       "<table border=\"1\" class=\"dataframe\">\n",
       "  <thead>\n",
       "    <tr style=\"text-align: right;\">\n",
       "      <th></th>\n",
       "      <th>tweet</th>\n",
       "      <th>sentimen</th>\n",
       "      <th>process_tweet</th>\n",
       "      <th>process_label</th>\n",
       "    </tr>\n",
       "  </thead>\n",
       "  <tbody>\n",
       "    <tr>\n",
       "      <th>0</th>\n",
       "      <td>Saya juga mau vouchee @gojekindonesia  https:/...</td>\n",
       "      <td>1</td>\n",
       "      <td>saya juga mau vouchee AT_USER  URL</td>\n",
       "      <td>1.0</td>\n",
       "    </tr>\n",
       "    <tr>\n",
       "      <th>1</th>\n",
       "      <td>download gojek duluuu uwuwu</td>\n",
       "      <td>1</td>\n",
       "      <td>download gojek duluuu uwuwu</td>\n",
       "      <td>1.0</td>\n",
       "    </tr>\n",
       "    <tr>\n",
       "      <th>2</th>\n",
       "      <td>Aminnn...#orderan goride mhn di lancar kan.all...</td>\n",
       "      <td>1</td>\n",
       "      <td>aminnnorderan goride mhn di lancar kanall driv...</td>\n",
       "      <td>1.0</td>\n",
       "    </tr>\n",
       "    <tr>\n",
       "      <th>3</th>\n",
       "      <td>Tq @gojekindonesia @golifeindonesia 🖤. Harusny...</td>\n",
       "      <td>1</td>\n",
       "      <td>tq AT_USER AT_USER  harusnya si bapak ini  50 ...</td>\n",
       "      <td>1.0</td>\n",
       "    </tr>\n",
       "    <tr>\n",
       "      <th>4</th>\n",
       "      <td>Semoga Twitter panjang umur. Berkomunikasi den...</td>\n",
       "      <td>1</td>\n",
       "      <td>semoga twitter panjang umur berkomunikasi deng...</td>\n",
       "      <td>1.0</td>\n",
       "    </tr>\n",
       "  </tbody>\n",
       "</table>\n",
       "</div>"
      ],
      "text/plain": [
       "                                               tweet  sentimen  \\\n",
       "0  Saya juga mau vouchee @gojekindonesia  https:/...         1   \n",
       "1                        download gojek duluuu uwuwu         1   \n",
       "2  Aminnn...#orderan goride mhn di lancar kan.all...         1   \n",
       "3  Tq @gojekindonesia @golifeindonesia 🖤. Harusny...         1   \n",
       "4  Semoga Twitter panjang umur. Berkomunikasi den...         1   \n",
       "\n",
       "                                       process_tweet  process_label  \n",
       "0                 saya juga mau vouchee AT_USER  URL            1.0  \n",
       "1                        download gojek duluuu uwuwu            1.0  \n",
       "2  aminnnorderan goride mhn di lancar kanall driv...            1.0  \n",
       "3  tq AT_USER AT_USER  harusnya si bapak ini  50 ...            1.0  \n",
       "4  semoga twitter panjang umur berkomunikasi deng...            1.0  "
      ]
     },
     "execution_count": 5,
     "metadata": {},
     "output_type": "execute_result"
    }
   ],
   "source": [
    "def process_tweet(twt):\n",
    "    # Convert to lower case\n",
    "    twt = twt.lower()\n",
    "    # Convert www.* or https?://* to URL\n",
    "    twt = re.sub('http[s]?://(?:[a-zA-Z]|[0-9]|[$-_@.&+]|[!*\\(\\), ]|(?:%[0-9a-fA-F][0-9a-fA-F]))+', 'URL', twt)\n",
    "    # Convert @username to AT_USER\n",
    "    twt = re.sub('@\\S+', 'AT_USER', twt)\n",
    "    # Remove additional white spaces\n",
    "    twt = re.sub('\\s', ' ', twt)\n",
    "    # Replace all except alphanumeric, _ and space\n",
    "    twt = re.sub('[^a-zA-Z0-9_ ]', '', twt)\n",
    "    # trim\n",
    "    twt = twt.strip()\n",
    "    return twt\n",
    "\n",
    "def process_label(label):\n",
    "    if label == 1:\n",
    "        return 1.0\n",
    "    else:\n",
    "        return 0.0\n",
    "\n",
    "tweets[\"process_tweet\"] = tweets[\"tweet\"].apply(process_tweet)\n",
    "tweets[\"process_label\"] = tweets[\"sentimen\"].apply(process_label)\n",
    "tweets.head()"
   ]
  },
  {
   "cell_type": "markdown",
   "metadata": {},
   "source": [
    "# Create Matrix using TF-IDF Weighting"
   ]
  },
  {
   "cell_type": "code",
   "execution_count": 6,
   "metadata": {
    "scrolled": true
   },
   "outputs": [
    {
     "data": {
      "text/plain": [
       "array([[0., 0., 0., ..., 0., 0., 0.],\n",
       "       [0., 0., 0., ..., 0., 0., 0.],\n",
       "       [0., 0., 0., ..., 0., 0., 0.],\n",
       "       ...,\n",
       "       [0., 0., 0., ..., 0., 0., 0.],\n",
       "       [0., 0., 0., ..., 0., 0., 0.],\n",
       "       [0., 0., 0., ..., 0., 0., 0.]])"
      ]
     },
     "execution_count": 6,
     "metadata": {},
     "output_type": "execute_result"
    }
   ],
   "source": [
    "vectorizer = TfidfVectorizer()\n",
    "data = vectorizer.fit_transform(tweets[\"process_tweet\"]).toarray()\n",
    "data"
   ]
  },
  {
   "cell_type": "markdown",
   "metadata": {},
   "source": [
    "# Split Training and Testing Dataset"
   ]
  },
  {
   "cell_type": "code",
   "execution_count": 7,
   "metadata": {},
   "outputs": [],
   "source": [
    "X_train, X_test, y_train, y_test = train_test_split(data, \n",
    "                                                    tweets[\"process_label\"], \n",
    "                                                    test_size=0.33, \n",
    "                                                    random_state=42)"
   ]
  },
  {
   "cell_type": "markdown",
   "metadata": {},
   "source": [
    "# Train Machine Learning Model"
   ]
  },
  {
   "cell_type": "code",
   "execution_count": 8,
   "metadata": {
    "scrolled": true
   },
   "outputs": [
    {
     "data": {
      "text/plain": [
       "SVC(C=1.0, break_ties=False, cache_size=200, class_weight=None, coef0=0.0,\n",
       "    decision_function_shape='ovr', degree=3, gamma='scale', kernel='rbf',\n",
       "    max_iter=-1, probability=False, random_state=None, shrinking=True,\n",
       "    tol=0.001, verbose=False)"
      ]
     },
     "execution_count": 8,
     "metadata": {},
     "output_type": "execute_result"
    }
   ],
   "source": [
    "model = SVC()\n",
    "model.fit(X_train, y_train)"
   ]
  },
  {
   "cell_type": "markdown",
   "metadata": {},
   "source": [
    "# Check Accuration against Test Set"
   ]
  },
  {
   "cell_type": "code",
   "execution_count": 9,
   "metadata": {},
   "outputs": [
    {
     "data": {
      "text/plain": [
       "0.7553030303030303"
      ]
     },
     "execution_count": 9,
     "metadata": {},
     "output_type": "execute_result"
    }
   ],
   "source": [
    "predicts = model.predict(X_test)\n",
    "accuracy_score(y_test, predicts)"
   ]
  },
  {
   "cell_type": "markdown",
   "metadata": {},
   "source": [
    "# Check Accuration against Test Set"
   ]
  },
  {
   "cell_type": "code",
   "execution_count": 11,
   "metadata": {},
   "outputs": [
    {
     "name": "stdout",
     "output_type": "stream",
     "text": [
      "negatif\n"
     ]
    }
   ],
   "source": [
    "test_data = \"Baru pesan gofood tapi rasanya tidak enak :(\"\n",
    "test_data = process_tweet(test_data)\n",
    "test_data = vectorizer.transform((test_data, )).toarray()\n",
    "predict = model.predict(test_data)\n",
    "if predict == 0.:\n",
    "    print(\"negatif\")\n",
    "else:\n",
    "    print(\"positif\")"
   ]
  },
  {
   "cell_type": "markdown",
   "metadata": {},
   "source": [
    "# Create Confusion Matrix"
   ]
  },
  {
   "cell_type": "code",
   "execution_count": 54,
   "metadata": {},
   "outputs": [
    {
     "data": {
      "image/png": "[encoded data removed]",
      "text/plain": [
       "<Figure size 432x288 with 1 Axes>"
      ]
     },
     "metadata": {
      "needs_background": "light"
     },
     "output_type": "display_data"
    }
   ],
   "source": [
    "# Create Confusion Matrix\n",
    "\n",
    "model = SVC(kernel='rbf', random_state=0)\n",
    "model.fit(X_train, y_train)\n",
    "\n",
    "predicts = model.predict(X_test)\n",
    "\n",
    "cm = confusion_matrix(y_test, predicts)\n",
    "plt.clf()\n",
    "plt.imshow(cm, interpolation='nearest', cmap=plt.cm.Wistia)\n",
    "classNames = ['Positive','Negative']\n",
    "plt.title('SVM Confusion Matrix - Test Data')\n",
    "plt.ylabel('True label')\n",
    "plt.xlabel('Predicted label')\n",
    "tick_marks = np.arange(len(classNames))\n",
    "plt.xticks(tick_marks, classNames, rotation=45)\n",
    "plt.yticks(tick_marks, classNames)\n",
    "s = [['TP','FN'], ['FP', 'TN']]\n",
    "\n",
    "for i in range(2):\n",
    "    for j in range(2):\n",
    "        plt.text(j,i, str(s[i][j])+\" = \"+str(cm[i][j]))\n",
    "plt.show()"
   ]
  },
  {
   "cell_type": "code",
   "execution_count": 55,
   "metadata": {},
   "outputs": [
    {
     "name": "stdout",
     "output_type": "stream",
     "text": [
      "1320\n"
     ]
    }
   ],
   "source": [
    "#accuracy = s('TP' + 'TN')/('TP' + 'FN' + 'FP' + 'TN')\n",
    "TP = 984\n",
    "FN = 2\n",
    "FP = 321\n",
    "TN = 13\n",
    "total = TP + FN + FP + TN\n",
    "\n",
    "print(total)"
   ]
  },
  {
   "cell_type": "markdown",
   "metadata": {},
   "source": [
    "# Conclusion"
   ]
  },
  {
   "cell_type": "code",
   "execution_count": 56,
   "metadata": {},
   "outputs": [
    {
     "name": "stdout",
     "output_type": "stream",
     "text": [
      "The accuracy of this model: 0.7553030303030303\n"
     ]
    }
   ],
   "source": [
    "# Accuracy\n",
    "accuracy = (TP + TN) / (TP + FN + FP + TN)\n",
    "print('The accuracy of this model:',accuracy)"
   ]
  },
  {
   "cell_type": "code",
   "execution_count": 57,
   "metadata": {},
   "outputs": [
    {
     "name": "stdout",
     "output_type": "stream",
     "text": [
      "The mispredict rate of this model: 0.2446969696969697\n"
     ]
    }
   ],
   "source": [
    "# Misprediction Rate\n",
    "mispredict = (FP + FN) / (TP + FN + FP + TN)\n",
    "print('The mispredict rate of this model:',mispredict)"
   ]
  },
  {
   "cell_type": "code",
   "execution_count": 58,
   "metadata": {},
   "outputs": [
    {
     "name": "stdout",
     "output_type": "stream",
     "text": [
      "The recall positive rate of this model: 0.3255578093306288\n"
     ]
    }
   ],
   "source": [
    "# Recall (Positive)\n",
    "rp = FP / (TP + FN)\n",
    "print('The recall positive rate of this model:',rp)"
   ]
  },
  {
   "cell_type": "code",
   "execution_count": 59,
   "metadata": {},
   "outputs": [
    {
     "name": "stdout",
     "output_type": "stream",
     "text": [
      "The recall positive rate of this model: 0.038922155688622756\n"
     ]
    }
   ],
   "source": [
    "# Recall (Negative)\n",
    "rn = TN / (FP + TN)\n",
    "print('The recall positive rate of this model:',rn)"
   ]
  },
  {
   "cell_type": "code",
   "execution_count": 60,
   "metadata": {},
   "outputs": [
    {
     "name": "stdout",
     "output_type": "stream",
     "text": [
      "The precision positive rate of this model: 0.7540229885057471\n"
     ]
    }
   ],
   "source": [
    "# Precision (Positive)\n",
    "pp = TP / (TP + FP)\n",
    "print('The precision positive rate of this model:',pp)"
   ]
  },
  {
   "cell_type": "code",
   "execution_count": 61,
   "metadata": {},
   "outputs": [
    {
     "name": "stdout",
     "output_type": "stream",
     "text": [
      "The precision positive rate of this model: 0.8666666666666667\n"
     ]
    }
   ],
   "source": [
    "# Precision (Negative)\n",
    "pn = TN / (FN + TN)\n",
    "print('The precision positive rate of this model:',pn)"
   ]
  }
 ],
 "metadata": {
  "kernelspec": {
   "display_name": "Python 3",
   "language": "python",
   "name": "python3"
  },
  "language_info": {
   "codemirror_mode": {
    "name": "ipython",
    "version": 3
   },
   "file_extension": ".py",
   "mimetype": "text/x-python",
   "name": "python",
   "nbconvert_exporter": "python",
   "pygments_lexer": "ipython3",
   "version": "3.7.1"
  }
 },
 "nbformat": 4,
 "nbformat_minor": 4
}
